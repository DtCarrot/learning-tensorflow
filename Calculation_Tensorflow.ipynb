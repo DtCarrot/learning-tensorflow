{
  "nbformat": 4,
  "nbformat_minor": 0,
  "metadata": {
    "colab": {
      "name": "Calculation Tensorflow",
      "version": "0.3.2",
      "provenance": [],
      "collapsed_sections": []
    },
    "kernelspec": {
      "name": "python3",
      "display_name": "Python 3"
    },
    "accelerator": "GPU"
  },
  "cells": [
    {
      "cell_type": "markdown",
      "metadata": {
        "id": "eU3zvbyRxkjG",
        "colab_type": "text"
      },
      "source": [
        "# Goal of this notebook is to train a neural network model to learn how to do basic addition with two numbers."
      ]
    },
    {
      "cell_type": "code",
      "metadata": {
        "id": "1YLwc8i4h_uz",
        "colab_type": "code",
        "colab": {}
      },
      "source": [
        "import numpy as np\n",
        "import random"
      ],
      "execution_count": 0,
      "outputs": []
    },
    {
      "cell_type": "markdown",
      "metadata": {
        "id": "0QJXuM5Jxe02",
        "colab_type": "text"
      },
      "source": [
        "## Generate 3000 number pairs for calculation alongside the expected number after doing addition"
      ]
    },
    {
      "cell_type": "code",
      "metadata": {
        "id": "SacwR6KFidVS",
        "colab_type": "code",
        "colab": {}
      },
      "source": [
        "Y = np.random.randint(2, 50, size=3000)"
      ],
      "execution_count": 0,
      "outputs": []
    },
    {
      "cell_type": "code",
      "metadata": {
        "id": "Ew8NRs9sioiH",
        "colab_type": "code",
        "colab": {
          "base_uri": "https://localhost:8080/",
          "height": 34
        },
        "outputId": "e0956a1c-38fd-46d9-9a60-218ea318c312"
      },
      "source": [
        "Y.shape"
      ],
      "execution_count": 90,
      "outputs": [
        {
          "output_type": "execute_result",
          "data": {
            "text/plain": [
              "(3000,)"
            ]
          },
          "metadata": {
            "tags": []
          },
          "execution_count": 90
        }
      ]
    },
    {
      "cell_type": "code",
      "metadata": {
        "id": "fu9qT4kXi4uA",
        "colab_type": "code",
        "colab": {}
      },
      "source": [
        "X = []\n",
        "for i in range(Y.shape[0]):\n",
        "  random_first_number = np.random.randint(1, Y[i])\n",
        "  random_second_number = Y[i] - random_first_number\n",
        "  X.append([random_first_number, random_second_number])\n",
        " "
      ],
      "execution_count": 0,
      "outputs": []
    },
    {
      "cell_type": "code",
      "metadata": {
        "id": "F-lBlvMRl_3l",
        "colab_type": "code",
        "colab": {}
      },
      "source": [
        "X = np.asarray(X)"
      ],
      "execution_count": 0,
      "outputs": []
    },
    {
      "cell_type": "code",
      "metadata": {
        "id": "MSNlu5bVmtYv",
        "colab_type": "code",
        "colab": {
          "base_uri": "https://localhost:8080/",
          "height": 103
        },
        "outputId": "ff10c603-ab34-4c80-f4a6-e22f40884bec"
      },
      "source": [
        "X[0:5]"
      ],
      "execution_count": 93,
      "outputs": [
        {
          "output_type": "execute_result",
          "data": {
            "text/plain": [
              "array([[ 2,  2],\n",
              "       [ 5, 17],\n",
              "       [ 4, 36],\n",
              "       [41,  1],\n",
              "       [ 8, 20]])"
            ]
          },
          "metadata": {
            "tags": []
          },
          "execution_count": 93
        }
      ]
    },
    {
      "cell_type": "code",
      "metadata": {
        "id": "dS338lwUmEqr",
        "colab_type": "code",
        "colab": {
          "base_uri": "https://localhost:8080/",
          "height": 34
        },
        "outputId": "21ab2d51-b315-4ec0-ec2c-6b86bb21cda1"
      },
      "source": [
        "Y[0:5]"
      ],
      "execution_count": 94,
      "outputs": [
        {
          "output_type": "execute_result",
          "data": {
            "text/plain": [
              "array([ 4, 22, 40, 42, 28])"
            ]
          },
          "metadata": {
            "tags": []
          },
          "execution_count": 94
        }
      ]
    },
    {
      "cell_type": "markdown",
      "metadata": {
        "id": "yvCvYBTpyQzb",
        "colab_type": "text"
      },
      "source": [
        "# Import tensorflow dependencies + build model + declare hyperparameters"
      ]
    },
    {
      "cell_type": "code",
      "metadata": {
        "id": "mY9V0AYoncOA",
        "colab_type": "code",
        "colab": {}
      },
      "source": [
        "import tensorflow as tf\n",
        "from tensorflow import keras\n",
        "from tensorflow.keras import layers"
      ],
      "execution_count": 0,
      "outputs": []
    },
    {
      "cell_type": "code",
      "metadata": {
        "id": "LR6Q7hM3neI3",
        "colab_type": "code",
        "colab": {}
      },
      "source": [
        "def build_model():\n",
        "  model = keras.Sequential([\n",
        "      layers.Dense(1, input_shape=(2,))\n",
        "  ])\n",
        "  optimizer = keras.optimizers.RMSprop(0.0001)\n",
        "  model.compile(loss='mean_squared_error',\n",
        "                optimizer=optimizer,\n",
        "                metrics=['mean_absolute_error', 'mean_squared_error'])\n",
        "  return model"
      ],
      "execution_count": 0,
      "outputs": []
    },
    {
      "cell_type": "code",
      "metadata": {
        "id": "yE-cZra6lRNR",
        "colab_type": "code",
        "colab": {}
      },
      "source": [
        "model = build_model()\n"
      ],
      "execution_count": 0,
      "outputs": []
    },
    {
      "cell_type": "markdown",
      "metadata": {
        "id": "grt8pccdyZF4",
        "colab_type": "text"
      },
      "source": [
        "# Start to train model"
      ]
    },
    {
      "cell_type": "code",
      "metadata": {
        "id": "2_Ps2NnOlhFB",
        "colab_type": "code",
        "colab": {
          "base_uri": "https://localhost:8080/",
          "height": 188
        },
        "outputId": "dad4ee62-329b-4e38-908e-85afa37ddb2f"
      },
      "source": [
        "model.summary()"
      ],
      "execution_count": 55,
      "outputs": [
        {
          "output_type": "stream",
          "text": [
            "Model: \"sequential_2\"\n",
            "_________________________________________________________________\n",
            "Layer (type)                 Output Shape              Param #   \n",
            "=================================================================\n",
            "dense_2 (Dense)              (None, 1)                 3         \n",
            "=================================================================\n",
            "Total params: 3\n",
            "Trainable params: 3\n",
            "Non-trainable params: 0\n",
            "_________________________________________________________________\n"
          ],
          "name": "stdout"
        }
      ]
    },
    {
      "cell_type": "code",
      "metadata": {
        "id": "RJkOnUqqljrr",
        "colab_type": "code",
        "colab": {
          "base_uri": "https://localhost:8080/",
          "height": 3483
        },
        "outputId": "f0115395-4fee-41dd-c055-1ab22d5c9109"
      },
      "source": [
        "history = model.fit(\n",
        "  X, Y,\n",
        "  epochs=100,\n",
        "  validation_split=0.2,\n",
        "  verbose=1\n",
        ")"
      ],
      "execution_count": 73,
      "outputs": [
        {
          "output_type": "stream",
          "text": [
            "Train on 2400 samples, validate on 600 samples\n",
            "Epoch 1/100\n",
            "2400/2400 [==============================] - 0s 77us/sample - loss: 2.3685e-06 - mean_absolute_error: 0.0011 - mean_squared_error: 2.3685e-06 - val_loss: 1.0352e-06 - val_mean_absolute_error: 8.6665e-04 - val_mean_squared_error: 1.0352e-06\n",
            "Epoch 2/100\n",
            "2400/2400 [==============================] - 0s 74us/sample - loss: 2.0704e-06 - mean_absolute_error: 0.0011 - mean_squared_error: 2.0704e-06 - val_loss: 6.2388e-06 - val_mean_absolute_error: 0.0022 - val_mean_squared_error: 6.2388e-06\n",
            "Epoch 3/100\n",
            "2400/2400 [==============================] - 0s 73us/sample - loss: 2.1779e-06 - mean_absolute_error: 8.5784e-04 - mean_squared_error: 2.1779e-06 - val_loss: 1.4130e-06 - val_mean_absolute_error: 9.6858e-04 - val_mean_squared_error: 1.4130e-06\n",
            "Epoch 4/100\n",
            "2400/2400 [==============================] - 0s 72us/sample - loss: 2.1019e-06 - mean_absolute_error: 0.0012 - mean_squared_error: 2.1019e-06 - val_loss: 1.9243e-06 - val_mean_absolute_error: 0.0012 - val_mean_squared_error: 1.9243e-06\n",
            "Epoch 5/100\n",
            "2400/2400 [==============================] - 0s 70us/sample - loss: 2.3175e-06 - mean_absolute_error: 0.0012 - mean_squared_error: 2.3175e-06 - val_loss: 3.5736e-06 - val_mean_absolute_error: 0.0016 - val_mean_squared_error: 3.5736e-06\n",
            "Epoch 6/100\n",
            "2400/2400 [==============================] - 0s 79us/sample - loss: 2.0183e-06 - mean_absolute_error: 9.1954e-04 - mean_squared_error: 2.0183e-06 - val_loss: 1.2502e-08 - val_mean_absolute_error: 9.5347e-05 - val_mean_squared_error: 1.2502e-08\n",
            "Epoch 7/100\n",
            "2400/2400 [==============================] - 0s 75us/sample - loss: 2.3718e-06 - mean_absolute_error: 0.0012 - mean_squared_error: 2.3718e-06 - val_loss: 2.8355e-06 - val_mean_absolute_error: 0.0015 - val_mean_squared_error: 2.8355e-06\n",
            "Epoch 8/100\n",
            "2400/2400 [==============================] - 0s 73us/sample - loss: 2.1542e-06 - mean_absolute_error: 0.0011 - mean_squared_error: 2.1542e-06 - val_loss: 1.0088e-06 - val_mean_absolute_error: 7.5196e-04 - val_mean_squared_error: 1.0088e-06\n",
            "Epoch 9/100\n",
            "2400/2400 [==============================] - 0s 73us/sample - loss: 1.9352e-06 - mean_absolute_error: 8.6060e-04 - mean_squared_error: 1.9352e-06 - val_loss: 3.7187e-09 - val_mean_absolute_error: 6.0337e-05 - val_mean_squared_error: 3.7187e-09\n",
            "Epoch 10/100\n",
            "2400/2400 [==============================] - 0s 73us/sample - loss: 2.3265e-06 - mean_absolute_error: 9.7560e-04 - mean_squared_error: 2.3265e-06 - val_loss: 4.7131e-06 - val_mean_absolute_error: 0.0019 - val_mean_squared_error: 4.7131e-06\n",
            "Epoch 11/100\n",
            "2400/2400 [==============================] - 0s 72us/sample - loss: 1.9904e-06 - mean_absolute_error: 9.6758e-04 - mean_squared_error: 1.9904e-06 - val_loss: 5.6522e-07 - val_mean_absolute_error: 6.6726e-04 - val_mean_squared_error: 5.6522e-07\n",
            "Epoch 12/100\n",
            "2400/2400 [==============================] - 0s 79us/sample - loss: 2.2675e-06 - mean_absolute_error: 0.0012 - mean_squared_error: 2.2675e-06 - val_loss: 8.2006e-06 - val_mean_absolute_error: 0.0025 - val_mean_squared_error: 8.2006e-06\n",
            "Epoch 13/100\n",
            "2400/2400 [==============================] - 0s 75us/sample - loss: 2.1567e-06 - mean_absolute_error: 0.0011 - mean_squared_error: 2.1567e-06 - val_loss: 4.4036e-06 - val_mean_absolute_error: 0.0019 - val_mean_squared_error: 4.4036e-06\n",
            "Epoch 14/100\n",
            "2400/2400 [==============================] - 0s 71us/sample - loss: 2.2007e-06 - mean_absolute_error: 0.0011 - mean_squared_error: 2.2007e-06 - val_loss: 9.1360e-09 - val_mean_absolute_error: 8.1614e-05 - val_mean_squared_error: 9.1360e-09\n",
            "Epoch 15/100\n",
            "2400/2400 [==============================] - 0s 73us/sample - loss: 2.1741e-06 - mean_absolute_error: 0.0011 - mean_squared_error: 2.1741e-06 - val_loss: 7.1488e-09 - val_mean_absolute_error: 6.8770e-05 - val_mean_squared_error: 7.1488e-09\n",
            "Epoch 16/100\n",
            "2400/2400 [==============================] - 0s 73us/sample - loss: 2.1701e-06 - mean_absolute_error: 0.0011 - mean_squared_error: 2.1701e-06 - val_loss: 4.9976e-07 - val_mean_absolute_error: 6.2761e-04 - val_mean_squared_error: 4.9976e-07\n",
            "Epoch 17/100\n",
            "2400/2400 [==============================] - 0s 73us/sample - loss: 2.0739e-06 - mean_absolute_error: 9.5612e-04 - mean_squared_error: 2.0739e-06 - val_loss: 5.5348e-07 - val_mean_absolute_error: 6.6794e-04 - val_mean_squared_error: 5.5348e-07\n",
            "Epoch 18/100\n",
            "2400/2400 [==============================] - 0s 78us/sample - loss: 2.0935e-06 - mean_absolute_error: 0.0011 - mean_squared_error: 2.0935e-06 - val_loss: 1.4438e-06 - val_mean_absolute_error: 0.0011 - val_mean_squared_error: 1.4438e-06\n",
            "Epoch 19/100\n",
            "2400/2400 [==============================] - 0s 72us/sample - loss: 2.2332e-06 - mean_absolute_error: 0.0011 - mean_squared_error: 2.2332e-06 - val_loss: 5.5556e-09 - val_mean_absolute_error: 6.2376e-05 - val_mean_squared_error: 5.5556e-09\n",
            "Epoch 20/100\n",
            "2400/2400 [==============================] - 0s 72us/sample - loss: 2.2255e-06 - mean_absolute_error: 8.7898e-04 - mean_squared_error: 2.2255e-06 - val_loss: 1.7666e-07 - val_mean_absolute_error: 3.5909e-04 - val_mean_squared_error: 1.7666e-07\n",
            "Epoch 21/100\n",
            "2400/2400 [==============================] - 0s 74us/sample - loss: 2.0537e-06 - mean_absolute_error: 0.0010 - mean_squared_error: 2.0537e-06 - val_loss: 2.7155e-06 - val_mean_absolute_error: 0.0014 - val_mean_squared_error: 2.7155e-06\n",
            "Epoch 22/100\n",
            "2400/2400 [==============================] - 0s 71us/sample - loss: 2.1727e-06 - mean_absolute_error: 0.0011 - mean_squared_error: 2.1727e-06 - val_loss: 6.0913e-06 - val_mean_absolute_error: 0.0022 - val_mean_squared_error: 6.0913e-06\n",
            "Epoch 23/100\n",
            "2400/2400 [==============================] - 0s 79us/sample - loss: 1.9971e-06 - mean_absolute_error: 9.3083e-04 - mean_squared_error: 1.9971e-06 - val_loss: 4.1974e-06 - val_mean_absolute_error: 0.0018 - val_mean_squared_error: 4.1974e-06\n",
            "Epoch 24/100\n",
            "2400/2400 [==============================] - 0s 73us/sample - loss: 2.2832e-06 - mean_absolute_error: 0.0012 - mean_squared_error: 2.2832e-06 - val_loss: 7.6943e-07 - val_mean_absolute_error: 7.6836e-04 - val_mean_squared_error: 7.6943e-07\n",
            "Epoch 25/100\n",
            "2400/2400 [==============================] - 0s 71us/sample - loss: 2.0778e-06 - mean_absolute_error: 9.1785e-04 - mean_squared_error: 2.0778e-06 - val_loss: 1.2417e-05 - val_mean_absolute_error: 0.0031 - val_mean_squared_error: 1.2417e-05\n",
            "Epoch 26/100\n",
            "2400/2400 [==============================] - 0s 72us/sample - loss: 2.2872e-06 - mean_absolute_error: 0.0012 - mean_squared_error: 2.2872e-06 - val_loss: 9.4579e-06 - val_mean_absolute_error: 0.0027 - val_mean_squared_error: 9.4579e-06\n",
            "Epoch 27/100\n",
            "2400/2400 [==============================] - 0s 72us/sample - loss: 2.0183e-06 - mean_absolute_error: 8.8730e-04 - mean_squared_error: 2.0183e-06 - val_loss: 1.0891e-06 - val_mean_absolute_error: 8.4938e-04 - val_mean_squared_error: 1.0891e-06\n",
            "Epoch 28/100\n",
            "2400/2400 [==============================] - 0s 72us/sample - loss: 2.1098e-06 - mean_absolute_error: 7.6110e-04 - mean_squared_error: 2.1098e-06 - val_loss: 1.8937e-09 - val_mean_absolute_error: 3.8088e-05 - val_mean_squared_error: 1.8937e-09\n",
            "Epoch 29/100\n",
            "2400/2400 [==============================] - 0s 75us/sample - loss: 2.2039e-06 - mean_absolute_error: 0.0011 - mean_squared_error: 2.2039e-06 - val_loss: 4.1530e-06 - val_mean_absolute_error: 0.0018 - val_mean_squared_error: 4.1530e-06\n",
            "Epoch 30/100\n",
            "2400/2400 [==============================] - 0s 72us/sample - loss: 2.1659e-06 - mean_absolute_error: 0.0011 - mean_squared_error: 2.1659e-06 - val_loss: 1.8510e-06 - val_mean_absolute_error: 0.0012 - val_mean_squared_error: 1.8510e-06\n",
            "Epoch 31/100\n",
            "2400/2400 [==============================] - 0s 72us/sample - loss: 2.1038e-06 - mean_absolute_error: 0.0011 - mean_squared_error: 2.1038e-06 - val_loss: 7.7708e-07 - val_mean_absolute_error: 7.7970e-04 - val_mean_squared_error: 7.7708e-07\n",
            "Epoch 32/100\n",
            "2400/2400 [==============================] - 0s 73us/sample - loss: 2.1517e-06 - mean_absolute_error: 0.0011 - mean_squared_error: 2.1517e-06 - val_loss: 4.9295e-08 - val_mean_absolute_error: 2.0345e-04 - val_mean_squared_error: 4.9295e-08\n",
            "Epoch 33/100\n",
            "2400/2400 [==============================] - 0s 73us/sample - loss: 2.1637e-06 - mean_absolute_error: 0.0011 - mean_squared_error: 2.1637e-06 - val_loss: 9.1428e-06 - val_mean_absolute_error: 0.0027 - val_mean_squared_error: 9.1428e-06\n",
            "Epoch 34/100\n",
            "2400/2400 [==============================] - 0s 71us/sample - loss: 2.1434e-06 - mean_absolute_error: 0.0011 - mean_squared_error: 2.1434e-06 - val_loss: 1.3319e-08 - val_mean_absolute_error: 1.0371e-04 - val_mean_squared_error: 1.3319e-08\n",
            "Epoch 35/100\n",
            "2400/2400 [==============================] - 0s 78us/sample - loss: 2.1674e-06 - mean_absolute_error: 9.4311e-04 - mean_squared_error: 2.1674e-06 - val_loss: 3.7565e-06 - val_mean_absolute_error: 0.0017 - val_mean_squared_error: 3.7565e-06\n",
            "Epoch 36/100\n",
            "2400/2400 [==============================] - 0s 76us/sample - loss: 2.3709e-06 - mean_absolute_error: 0.0011 - mean_squared_error: 2.3709e-06 - val_loss: 9.4190e-08 - val_mean_absolute_error: 2.4740e-04 - val_mean_squared_error: 9.4190e-08\n",
            "Epoch 37/100\n",
            "2400/2400 [==============================] - 0s 85us/sample - loss: 1.9877e-06 - mean_absolute_error: 9.3013e-04 - mean_squared_error: 1.9877e-06 - val_loss: 2.8318e-07 - val_mean_absolute_error: 4.6876e-04 - val_mean_squared_error: 2.8318e-07\n",
            "Epoch 38/100\n",
            "2400/2400 [==============================] - 0s 75us/sample - loss: 2.1290e-06 - mean_absolute_error: 0.0011 - mean_squared_error: 2.1290e-06 - val_loss: 1.8535e-06 - val_mean_absolute_error: 0.0012 - val_mean_squared_error: 1.8535e-06\n",
            "Epoch 39/100\n",
            "2400/2400 [==============================] - 0s 72us/sample - loss: 2.3582e-06 - mean_absolute_error: 0.0011 - mean_squared_error: 2.3582e-06 - val_loss: 1.7739e-07 - val_mean_absolute_error: 3.2156e-04 - val_mean_squared_error: 1.7739e-07\n",
            "Epoch 40/100\n",
            "2400/2400 [==============================] - 0s 75us/sample - loss: 2.0020e-06 - mean_absolute_error: 8.5617e-04 - mean_squared_error: 2.0020e-06 - val_loss: 5.6551e-07 - val_mean_absolute_error: 6.5938e-04 - val_mean_squared_error: 5.6551e-07\n",
            "Epoch 41/100\n",
            "2400/2400 [==============================] - 0s 74us/sample - loss: 2.2140e-06 - mean_absolute_error: 9.5556e-04 - mean_squared_error: 2.2140e-06 - val_loss: 1.2118e-06 - val_mean_absolute_error: 9.7113e-04 - val_mean_squared_error: 1.2118e-06\n",
            "Epoch 42/100\n",
            "2400/2400 [==============================] - 0s 71us/sample - loss: 2.1317e-06 - mean_absolute_error: 0.0010 - mean_squared_error: 2.1317e-06 - val_loss: 8.3318e-07 - val_mean_absolute_error: 8.2426e-04 - val_mean_squared_error: 8.3318e-07\n",
            "Epoch 43/100\n",
            "2400/2400 [==============================] - 0s 72us/sample - loss: 2.0075e-06 - mean_absolute_error: 9.7927e-04 - mean_squared_error: 2.0075e-06 - val_loss: 4.6589e-06 - val_mean_absolute_error: 0.0019 - val_mean_squared_error: 4.6589e-06\n",
            "Epoch 44/100\n",
            "2400/2400 [==============================] - 0s 73us/sample - loss: 2.2021e-06 - mean_absolute_error: 0.0011 - mean_squared_error: 2.2021e-06 - val_loss: 1.0928e-06 - val_mean_absolute_error: 9.1326e-04 - val_mean_squared_error: 1.0928e-06\n",
            "Epoch 45/100\n",
            "2400/2400 [==============================] - 0s 71us/sample - loss: 2.2147e-06 - mean_absolute_error: 9.3145e-04 - mean_squared_error: 2.2147e-06 - val_loss: 4.8295e-09 - val_mean_absolute_error: 6.0528e-05 - val_mean_squared_error: 4.8295e-09\n",
            "Epoch 46/100\n",
            "2400/2400 [==============================] - 0s 78us/sample - loss: 2.2741e-06 - mean_absolute_error: 0.0011 - mean_squared_error: 2.2741e-06 - val_loss: 5.6564e-07 - val_mean_absolute_error: 6.6936e-04 - val_mean_squared_error: 5.6564e-07\n",
            "Epoch 47/100\n",
            "2400/2400 [==============================] - 0s 74us/sample - loss: 2.0783e-06 - mean_absolute_error: 0.0011 - mean_squared_error: 2.0783e-06 - val_loss: 4.5303e-08 - val_mean_absolute_error: 1.7611e-04 - val_mean_squared_error: 4.5303e-08\n",
            "Epoch 48/100\n",
            "2400/2400 [==============================] - 0s 71us/sample - loss: 1.9552e-06 - mean_absolute_error: 7.3176e-04 - mean_squared_error: 1.9552e-06 - val_loss: 7.1240e-07 - val_mean_absolute_error: 7.4908e-04 - val_mean_squared_error: 7.1240e-07\n",
            "Epoch 49/100\n",
            "2400/2400 [==============================] - 0s 75us/sample - loss: 2.2771e-06 - mean_absolute_error: 0.0011 - mean_squared_error: 2.2771e-06 - val_loss: 1.1204e-06 - val_mean_absolute_error: 9.4464e-04 - val_mean_squared_error: 1.1204e-06\n",
            "Epoch 50/100\n",
            "2400/2400 [==============================] - 0s 71us/sample - loss: 2.2309e-06 - mean_absolute_error: 0.0012 - mean_squared_error: 2.2309e-06 - val_loss: 8.8556e-07 - val_mean_absolute_error: 8.4774e-04 - val_mean_squared_error: 8.8556e-07\n",
            "Epoch 51/100\n",
            "2400/2400 [==============================] - 0s 77us/sample - loss: 2.0017e-06 - mean_absolute_error: 8.2544e-04 - mean_squared_error: 2.0017e-06 - val_loss: 9.5911e-09 - val_mean_absolute_error: 8.2424e-05 - val_mean_squared_error: 9.5911e-09\n",
            "Epoch 52/100\n",
            "2400/2400 [==============================] - 0s 72us/sample - loss: 2.0919e-06 - mean_absolute_error: 9.5781e-04 - mean_squared_error: 2.0919e-06 - val_loss: 1.7774e-10 - val_mean_absolute_error: 1.1519e-05 - val_mean_squared_error: 1.7774e-10\n",
            "Epoch 53/100\n",
            "2400/2400 [==============================] - 0s 72us/sample - loss: 2.1355e-06 - mean_absolute_error: 9.8435e-04 - mean_squared_error: 2.1355e-06 - val_loss: 1.9434e-06 - val_mean_absolute_error: 0.0012 - val_mean_squared_error: 1.9434e-06\n",
            "Epoch 54/100\n",
            "2400/2400 [==============================] - 0s 71us/sample - loss: 2.0576e-06 - mean_absolute_error: 0.0011 - mean_squared_error: 2.0576e-06 - val_loss: 2.9345e-06 - val_mean_absolute_error: 0.0015 - val_mean_squared_error: 2.9345e-06\n",
            "Epoch 55/100\n",
            "2400/2400 [==============================] - 0s 74us/sample - loss: 2.3168e-06 - mean_absolute_error: 0.0011 - mean_squared_error: 2.3168e-06 - val_loss: 3.7597e-06 - val_mean_absolute_error: 0.0017 - val_mean_squared_error: 3.7597e-06\n",
            "Epoch 56/100\n",
            "2400/2400 [==============================] - 0s 71us/sample - loss: 2.0692e-06 - mean_absolute_error: 9.8943e-04 - mean_squared_error: 2.0692e-06 - val_loss: 1.4375e-07 - val_mean_absolute_error: 3.4463e-04 - val_mean_squared_error: 1.4375e-07\n",
            "Epoch 57/100\n",
            "2400/2400 [==============================] - 0s 76us/sample - loss: 2.2930e-06 - mean_absolute_error: 0.0011 - mean_squared_error: 2.2930e-06 - val_loss: 1.9072e-06 - val_mean_absolute_error: 0.0012 - val_mean_squared_error: 1.9072e-06\n",
            "Epoch 58/100\n",
            "2400/2400 [==============================] - 0s 70us/sample - loss: 2.0294e-06 - mean_absolute_error: 0.0011 - mean_squared_error: 2.0294e-06 - val_loss: 1.1342e-06 - val_mean_absolute_error: 9.5113e-04 - val_mean_squared_error: 1.1342e-06\n",
            "Epoch 59/100\n",
            "2400/2400 [==============================] - 0s 73us/sample - loss: 2.2290e-06 - mean_absolute_error: 0.0011 - mean_squared_error: 2.2290e-06 - val_loss: 2.0951e-06 - val_mean_absolute_error: 0.0013 - val_mean_squared_error: 2.0951e-06\n",
            "Epoch 60/100\n",
            "2400/2400 [==============================] - 0s 72us/sample - loss: 2.2854e-06 - mean_absolute_error: 0.0011 - mean_squared_error: 2.2854e-06 - val_loss: 2.5736e-06 - val_mean_absolute_error: 0.0014 - val_mean_squared_error: 2.5736e-06\n",
            "Epoch 61/100\n",
            "2400/2400 [==============================] - 0s 71us/sample - loss: 2.2035e-06 - mean_absolute_error: 0.0011 - mean_squared_error: 2.2035e-06 - val_loss: 2.1359e-06 - val_mean_absolute_error: 0.0013 - val_mean_squared_error: 2.1359e-06\n",
            "Epoch 62/100\n",
            "2400/2400 [==============================] - 0s 74us/sample - loss: 2.1105e-06 - mean_absolute_error: 0.0011 - mean_squared_error: 2.1105e-06 - val_loss: 2.0031e-06 - val_mean_absolute_error: 0.0013 - val_mean_squared_error: 2.0031e-06\n",
            "Epoch 63/100\n",
            "2400/2400 [==============================] - 0s 79us/sample - loss: 1.9132e-06 - mean_absolute_error: 8.0575e-04 - mean_squared_error: 1.9132e-06 - val_loss: 1.4722e-06 - val_mean_absolute_error: 0.0010 - val_mean_squared_error: 1.4722e-06\n",
            "Epoch 64/100\n",
            "2400/2400 [==============================] - 0s 72us/sample - loss: 2.4129e-06 - mean_absolute_error: 0.0011 - mean_squared_error: 2.4129e-06 - val_loss: 8.5573e-07 - val_mean_absolute_error: 7.9300e-04 - val_mean_squared_error: 8.5573e-07\n",
            "Epoch 65/100\n",
            "2400/2400 [==============================] - 0s 74us/sample - loss: 2.1688e-06 - mean_absolute_error: 0.0011 - mean_squared_error: 2.1688e-06 - val_loss: 4.9208e-06 - val_mean_absolute_error: 0.0020 - val_mean_squared_error: 4.9208e-06\n",
            "Epoch 66/100\n",
            "2400/2400 [==============================] - 0s 72us/sample - loss: 2.0269e-06 - mean_absolute_error: 0.0011 - mean_squared_error: 2.0269e-06 - val_loss: 1.1404e-06 - val_mean_absolute_error: 9.4679e-04 - val_mean_squared_error: 1.1404e-06\n",
            "Epoch 67/100\n",
            "2400/2400 [==============================] - 0s 71us/sample - loss: 2.2973e-06 - mean_absolute_error: 0.0011 - mean_squared_error: 2.2973e-06 - val_loss: 4.4084e-06 - val_mean_absolute_error: 0.0019 - val_mean_squared_error: 4.4084e-06\n",
            "Epoch 68/100\n",
            "2400/2400 [==============================] - 0s 79us/sample - loss: 2.1551e-06 - mean_absolute_error: 0.0012 - mean_squared_error: 2.1551e-06 - val_loss: 2.8131e-07 - val_mean_absolute_error: 4.6001e-04 - val_mean_squared_error: 2.8131e-07\n",
            "Epoch 69/100\n",
            "2400/2400 [==============================] - 0s 74us/sample - loss: 2.1931e-06 - mean_absolute_error: 9.8436e-04 - mean_squared_error: 2.1931e-06 - val_loss: 7.2243e-07 - val_mean_absolute_error: 7.5397e-04 - val_mean_squared_error: 7.2243e-07\n",
            "Epoch 70/100\n",
            "2400/2400 [==============================] - 0s 72us/sample - loss: 2.2098e-06 - mean_absolute_error: 0.0012 - mean_squared_error: 2.2098e-06 - val_loss: 1.8609e-06 - val_mean_absolute_error: 0.0011 - val_mean_squared_error: 1.8609e-06\n",
            "Epoch 71/100\n",
            "2400/2400 [==============================] - 0s 70us/sample - loss: 2.2031e-06 - mean_absolute_error: 0.0011 - mean_squared_error: 2.2031e-06 - val_loss: 3.1678e-06 - val_mean_absolute_error: 0.0016 - val_mean_squared_error: 3.1678e-06\n",
            "Epoch 72/100\n",
            "2400/2400 [==============================] - 0s 73us/sample - loss: 2.2589e-06 - mean_absolute_error: 0.0012 - mean_squared_error: 2.2589e-06 - val_loss: 1.6945e-06 - val_mean_absolute_error: 0.0011 - val_mean_squared_error: 1.6945e-06\n",
            "Epoch 73/100\n",
            "2400/2400 [==============================] - 0s 72us/sample - loss: 2.0596e-06 - mean_absolute_error: 0.0011 - mean_squared_error: 2.0596e-06 - val_loss: 2.5585e-07 - val_mean_absolute_error: 4.5762e-04 - val_mean_squared_error: 2.5585e-07\n",
            "Epoch 74/100\n",
            "2400/2400 [==============================] - 0s 75us/sample - loss: 2.0109e-06 - mean_absolute_error: 8.0781e-04 - mean_squared_error: 2.0109e-06 - val_loss: 4.5103e-06 - val_mean_absolute_error: 0.0019 - val_mean_squared_error: 4.5103e-06\n",
            "Epoch 75/100\n",
            "2400/2400 [==============================] - 0s 72us/sample - loss: 2.2513e-06 - mean_absolute_error: 0.0011 - mean_squared_error: 2.2513e-06 - val_loss: 5.4959e-06 - val_mean_absolute_error: 0.0021 - val_mean_squared_error: 5.4959e-06\n",
            "Epoch 76/100\n",
            "2400/2400 [==============================] - 0s 73us/sample - loss: 2.1084e-06 - mean_absolute_error: 0.0010 - mean_squared_error: 2.1084e-06 - val_loss: 6.1660e-10 - val_mean_absolute_error: 2.0903e-05 - val_mean_squared_error: 6.1660e-10\n",
            "Epoch 77/100\n",
            "2400/2400 [==============================] - 0s 71us/sample - loss: 2.2032e-06 - mean_absolute_error: 0.0010 - mean_squared_error: 2.2032e-06 - val_loss: 7.8239e-07 - val_mean_absolute_error: 7.8123e-04 - val_mean_squared_error: 7.8239e-07\n",
            "Epoch 78/100\n",
            "2400/2400 [==============================] - 0s 72us/sample - loss: 2.2074e-06 - mean_absolute_error: 0.0011 - mean_squared_error: 2.2074e-06 - val_loss: 3.7670e-08 - val_mean_absolute_error: 1.4830e-04 - val_mean_squared_error: 3.7670e-08\n",
            "Epoch 79/100\n",
            "2400/2400 [==============================] - 0s 73us/sample - loss: 2.1289e-06 - mean_absolute_error: 8.4076e-04 - mean_squared_error: 2.1289e-06 - val_loss: 2.1424e-06 - val_mean_absolute_error: 0.0013 - val_mean_squared_error: 2.1424e-06\n",
            "Epoch 80/100\n",
            "2400/2400 [==============================] - 0s 76us/sample - loss: 2.1573e-06 - mean_absolute_error: 0.0012 - mean_squared_error: 2.1573e-06 - val_loss: 1.6828e-06 - val_mean_absolute_error: 0.0011 - val_mean_squared_error: 1.6828e-06\n",
            "Epoch 81/100\n",
            "2400/2400 [==============================] - 0s 71us/sample - loss: 2.1001e-06 - mean_absolute_error: 0.0011 - mean_squared_error: 2.1001e-06 - val_loss: 8.6956e-06 - val_mean_absolute_error: 0.0026 - val_mean_squared_error: 8.6956e-06\n",
            "Epoch 82/100\n",
            "2400/2400 [==============================] - 0s 75us/sample - loss: 2.4684e-06 - mean_absolute_error: 9.1936e-04 - mean_squared_error: 2.4684e-06 - val_loss: 2.1713e-08 - val_mean_absolute_error: 1.3537e-04 - val_mean_squared_error: 2.1713e-08\n",
            "Epoch 83/100\n",
            "2400/2400 [==============================] - 0s 73us/sample - loss: 1.7494e-06 - mean_absolute_error: 7.7763e-04 - mean_squared_error: 1.7494e-06 - val_loss: 2.8863e-07 - val_mean_absolute_error: 4.7422e-04 - val_mean_squared_error: 2.8863e-07\n",
            "Epoch 84/100\n",
            "2400/2400 [==============================] - 0s 71us/sample - loss: 2.2833e-06 - mean_absolute_error: 9.6500e-04 - mean_squared_error: 2.2833e-06 - val_loss: 4.1018e-09 - val_mean_absolute_error: 5.4967e-05 - val_mean_squared_error: 4.1018e-09\n",
            "Epoch 85/100\n",
            "2400/2400 [==============================] - 0s 76us/sample - loss: 2.1214e-06 - mean_absolute_error: 0.0010 - mean_squared_error: 2.1214e-06 - val_loss: 6.1113e-06 - val_mean_absolute_error: 0.0022 - val_mean_squared_error: 6.1113e-06\n",
            "Epoch 86/100\n",
            "2400/2400 [==============================] - 0s 73us/sample - loss: 2.3118e-06 - mean_absolute_error: 0.0010 - mean_squared_error: 2.3118e-06 - val_loss: 2.7499e-08 - val_mean_absolute_error: 1.3829e-04 - val_mean_squared_error: 2.7499e-08\n",
            "Epoch 87/100\n",
            "2400/2400 [==============================] - 0s 71us/sample - loss: 2.1173e-06 - mean_absolute_error: 0.0011 - mean_squared_error: 2.1173e-06 - val_loss: 1.2339e-08 - val_mean_absolute_error: 9.9970e-05 - val_mean_squared_error: 1.2339e-08\n",
            "Epoch 88/100\n",
            "2400/2400 [==============================] - 0s 73us/sample - loss: 2.0551e-06 - mean_absolute_error: 0.0011 - mean_squared_error: 2.0551e-06 - val_loss: 9.0793e-06 - val_mean_absolute_error: 0.0027 - val_mean_squared_error: 9.0793e-06\n",
            "Epoch 89/100\n",
            "2400/2400 [==============================] - 0s 71us/sample - loss: 2.2258e-06 - mean_absolute_error: 0.0011 - mean_squared_error: 2.2258e-06 - val_loss: 3.3791e-07 - val_mean_absolute_error: 5.1968e-04 - val_mean_squared_error: 3.3791e-07\n",
            "Epoch 90/100\n",
            "2400/2400 [==============================] - 0s 71us/sample - loss: 2.2212e-06 - mean_absolute_error: 9.3596e-04 - mean_squared_error: 2.2212e-06 - val_loss: 1.3029e-09 - val_mean_absolute_error: 3.1145e-05 - val_mean_squared_error: 1.3029e-09\n",
            "Epoch 91/100\n",
            "2400/2400 [==============================] - 0s 78us/sample - loss: 2.1890e-06 - mean_absolute_error: 7.8846e-04 - mean_squared_error: 2.1890e-06 - val_loss: 1.1122e-08 - val_mean_absolute_error: 8.5630e-05 - val_mean_squared_error: 1.1122e-08\n",
            "Epoch 92/100\n",
            "2400/2400 [==============================] - 0s 73us/sample - loss: 1.9389e-06 - mean_absolute_error: 9.8636e-04 - mean_squared_error: 1.9389e-06 - val_loss: 5.9831e-07 - val_mean_absolute_error: 6.8818e-04 - val_mean_squared_error: 5.9831e-07\n",
            "Epoch 93/100\n",
            "2400/2400 [==============================] - 0s 74us/sample - loss: 2.2219e-06 - mean_absolute_error: 0.0010 - mean_squared_error: 2.2219e-06 - val_loss: 5.4547e-08 - val_mean_absolute_error: 1.7040e-04 - val_mean_squared_error: 5.4547e-08\n",
            "Epoch 94/100\n",
            "2400/2400 [==============================] - 0s 76us/sample - loss: 2.1897e-06 - mean_absolute_error: 0.0012 - mean_squared_error: 2.1897e-06 - val_loss: 1.6815e-06 - val_mean_absolute_error: 0.0011 - val_mean_squared_error: 1.6815e-06\n",
            "Epoch 95/100\n",
            "2400/2400 [==============================] - 0s 77us/sample - loss: 2.0635e-06 - mean_absolute_error: 0.0010 - mean_squared_error: 2.0635e-06 - val_loss: 2.8980e-06 - val_mean_absolute_error: 0.0015 - val_mean_squared_error: 2.8980e-06\n",
            "Epoch 96/100\n",
            "2400/2400 [==============================] - 0s 74us/sample - loss: 2.4139e-06 - mean_absolute_error: 0.0011 - mean_squared_error: 2.4139e-06 - val_loss: 8.5075e-07 - val_mean_absolute_error: 8.0766e-04 - val_mean_squared_error: 8.5075e-07\n",
            "Epoch 97/100\n",
            "2400/2400 [==============================] - 0s 72us/sample - loss: 2.0050e-06 - mean_absolute_error: 0.0011 - mean_squared_error: 2.0050e-06 - val_loss: 6.4147e-06 - val_mean_absolute_error: 0.0022 - val_mean_squared_error: 6.4147e-06\n",
            "Epoch 98/100\n",
            "2400/2400 [==============================] - 0s 75us/sample - loss: 2.2648e-06 - mean_absolute_error: 0.0012 - mean_squared_error: 2.2648e-06 - val_loss: 1.8401e-06 - val_mean_absolute_error: 0.0012 - val_mean_squared_error: 1.8401e-06\n",
            "Epoch 99/100\n",
            "2400/2400 [==============================] - 0s 71us/sample - loss: 2.2628e-06 - mean_absolute_error: 0.0012 - mean_squared_error: 2.2628e-06 - val_loss: 2.1505e-06 - val_mean_absolute_error: 0.0013 - val_mean_squared_error: 2.1505e-06\n",
            "Epoch 100/100\n",
            "2400/2400 [==============================] - 0s 70us/sample - loss: 2.1074e-06 - mean_absolute_error: 0.0011 - mean_squared_error: 2.1074e-06 - val_loss: 6.4472e-06 - val_mean_absolute_error: 0.0023 - val_mean_squared_error: 6.4472e-06\n"
          ],
          "name": "stdout"
        }
      ]
    },
    {
      "cell_type": "markdown",
      "metadata": {
        "id": "ph5iHs7jycBU",
        "colab_type": "text"
      },
      "source": [
        "# Generate some hard-coded test data to test whether the model is able to perform an addition on two numbers."
      ]
    },
    {
      "cell_type": "code",
      "metadata": {
        "id": "fApYo9mft2_1",
        "colab_type": "code",
        "colab": {}
      },
      "source": [
        "X_test = np.asarray([\n",
        "    [40, 35],\n",
        "    [100, 30],\n",
        "    [300, 25],\n",
        "    [500, 305],\n",
        "    [200, 301],\n",
        "    [23, 53]\n",
        "])"
      ],
      "execution_count": 0,
      "outputs": []
    },
    {
      "cell_type": "code",
      "metadata": {
        "id": "dsi5pHm1lxek",
        "colab_type": "code",
        "colab": {
          "base_uri": "https://localhost:8080/",
          "height": 34
        },
        "outputId": "6fddab58-064b-43be-f3bd-9ab968bc4df6"
      },
      "source": [
        "pred_list = model.predict(X_test, verbose=1)"
      ],
      "execution_count": 99,
      "outputs": [
        {
          "output_type": "stream",
          "text": [
            "\r6/6 [==============================] - 0s 405us/sample\n"
          ],
          "name": "stdout"
        }
      ]
    },
    {
      "cell_type": "code",
      "metadata": {
        "id": "Z5NPcapiq3Uk",
        "colab_type": "code",
        "colab": {
          "base_uri": "https://localhost:8080/",
          "height": 120
        },
        "outputId": "10956a0d-ff6e-4124-d90a-6867cd48267c"
      },
      "source": [
        "pred_list"
      ],
      "execution_count": 100,
      "outputs": [
        {
          "output_type": "execute_result",
          "data": {
            "text/plain": [
              "array([[ 75.006424],\n",
              "       [130.01118 ],\n",
              "       [325.028   ],\n",
              "       [805.0683  ],\n",
              "       [501.04208 ],\n",
              "       [ 76.00644 ]], dtype=float32)"
            ]
          },
          "metadata": {
            "tags": []
          },
          "execution_count": 100
        }
      ]
    },
    {
      "cell_type": "code",
      "metadata": {
        "id": "nEidbK28ugak",
        "colab_type": "code",
        "colab": {}
      },
      "source": [
        "stacked_list = np.column_stack((X_test, pred_list))"
      ],
      "execution_count": 0,
      "outputs": []
    },
    {
      "cell_type": "code",
      "metadata": {
        "id": "92PEFlBVuzkv",
        "colab_type": "code",
        "colab": {
          "base_uri": "https://localhost:8080/",
          "height": 120
        },
        "outputId": "a9525673-235b-4c9e-a7f6-65c7e1f5622d"
      },
      "source": [
        "stacked_list"
      ],
      "execution_count": 102,
      "outputs": [
        {
          "output_type": "execute_result",
          "data": {
            "text/plain": [
              "array([[ 40.        ,  35.        ,  75.00642395],\n",
              "       [100.        ,  30.        , 130.01118469],\n",
              "       [300.        ,  25.        , 325.02801514],\n",
              "       [500.        , 305.        , 805.06829834],\n",
              "       [200.        , 301.        , 501.04208374],\n",
              "       [ 23.        ,  53.        ,  76.00643921]])"
            ]
          },
          "metadata": {
            "tags": []
          },
          "execution_count": 102
        }
      ]
    },
    {
      "cell_type": "code",
      "metadata": {
        "id": "1zu191j6wAQ3",
        "colab_type": "code",
        "colab": {
          "base_uri": "https://localhost:8080/",
          "height": 34
        },
        "outputId": "af41deda-b890-4138-ef8f-73dd4293fa60"
      },
      "source": [
        "stacked_list.shape"
      ],
      "execution_count": 103,
      "outputs": [
        {
          "output_type": "execute_result",
          "data": {
            "text/plain": [
              "(6, 3)"
            ]
          },
          "metadata": {
            "tags": []
          },
          "execution_count": 103
        }
      ]
    },
    {
      "cell_type": "code",
      "metadata": {
        "id": "vsuxShMPwC_L",
        "colab_type": "code",
        "colab": {
          "base_uri": "https://localhost:8080/",
          "height": 120
        },
        "outputId": "ce4740aa-0daa-434b-c450-9729aeed713d"
      },
      "source": [
        "for i in range(stacked_list.shape[0]):\n",
        "  # Round to the nearest number as the predictions gives us decimal points\n",
        "  print(\"%d + %d = %d\" % (stacked_list[i][0], stacked_list[i][1], round(stacked_list[i][2])))"
      ],
      "execution_count": 105,
      "outputs": [
        {
          "output_type": "stream",
          "text": [
            "40 + 35 = 75\n",
            "100 + 30 = 130\n",
            "300 + 25 = 325\n",
            "500 + 305 = 805\n",
            "200 + 301 = 501\n",
            "23 + 53 = 76\n"
          ],
          "name": "stdout"
        }
      ]
    },
    {
      "cell_type": "markdown",
      "metadata": {
        "id": "pm0KQUwPyknY",
        "colab_type": "text"
      },
      "source": [
        "# Guess we are done!"
      ]
    }
  ]
}